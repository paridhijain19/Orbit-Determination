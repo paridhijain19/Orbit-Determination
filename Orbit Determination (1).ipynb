{
 "cells": [
  {
   "cell_type": "code",
   "execution_count": 1,
   "id": "7150d359",
   "metadata": {},
   "outputs": [],
   "source": [
    "from math import *\n",
    "import csv"
   ]
  },
  {
   "cell_type": "markdown",
   "id": "a6549ba5",
   "metadata": {},
   "source": [
    "# Orbit determination\n",
    "\n",
    "<img src=\"orbit%20det.png\" alt=\"cosine vector\" style=\"width: 500px;\"/>"
   ]
  },
  {
   "cell_type": "markdown",
   "id": "de5d1472",
   "metadata": {},
   "source": [
    "## purpose of the program"
   ]
  },
  {
   "cell_type": "markdown",
   "id": "2a6a1bfb",
   "metadata": {},
   "source": [
    "The purpose of this program is to find the six orbital elements of an astroid namely:\n",
    "- The semi-major axis of the orbit.\n",
    "- The eccentricity of the orbit.\n",
    "- The inclination of the orbit.\n",
    "- The longitude of the ascending node.\n",
    "- The argument of perihelion.\n",
    "- The true anomaly.\n",
    "\n",
    "using the data from three seperate observation of the given astroid."
   ]
  },
  {
   "cell_type": "markdown",
   "id": "a93724ef",
   "metadata": {},
   "source": [
    "## inputs"
   ]
  },
  {
   "cell_type": "markdown",
   "id": "65a0706f",
   "metadata": {},
   "source": [
    "The inputs include \n",
    "- the time of each obervation.\n",
    "- the right ascension. \n",
    "- the declination of the aseteroid.\n",
    "- the postion and the velocity vectors relative to earth."
   ]
  },
  {
   "cell_type": "code",
   "execution_count": 2,
   "id": "6d9ee62e",
   "metadata": {
    "scrolled": true
   },
   "outputs": [],
   "source": [
    "with open('data.csv', newline='') as f:\n",
    "    reader = csv.reader(f)\n",
    "    data = list(reader)\n",
    "    \n",
    "ndata = []\n",
    "for i in range(1,10):\n",
    "    ndata.append(list(map(float, data[i])))\n",
    "\n",
    "c = 173.1446 #speed of light in\n",
    "k = 0.01720209895\n",
    "mu = 398600\n",
    "data = ndata"
   ]
  },
  {
   "cell_type": "code",
   "execution_count": 3,
   "id": "95d8efc2",
   "metadata": {},
   "outputs": [],
   "source": [
    "# Consider rows 1-3, which contain the data for the first of three observations. \n",
    "# This is how the data is organized:\n",
    "\n",
    "# day      month     year      UT (hrs)  UT (mins)    UT (secs)\n",
    "# RA (hrs) RA (mins) RA (secs) Dec (deg) Dec (arcmin) Dec (arcsec)\n",
    "# R [i]    R [j]     R [k]     Rdot [i]  Rdot [j]     Rdot [k]"
   ]
  },
  {
   "cell_type": "markdown",
   "id": "cd96d79d",
   "metadata": {},
   "source": [
    "breaking the data into three different lists:"
   ]
  },
  {
   "cell_type": "code",
   "execution_count": 4,
   "id": "9e3a40ee",
   "metadata": {},
   "outputs": [],
   "source": [
    "obs1 = data[:][:3]\n",
    "obs2 = data[:][3:6]\n",
    "obs3 = data[:][6:]"
   ]
  },
  {
   "cell_type": "code",
   "execution_count": 5,
   "id": "2de5303a",
   "metadata": {},
   "outputs": [],
   "source": [
    "def time(data):\n",
    "    year = float(data[0][2])\n",
    "    month = float(data[0][1])\n",
    "    day = data[0][0]\n",
    "    UT = data[0][3] + data[0][4]/60 + data[0][5]/3600\n",
    "    J0 = 367*year - int((7*(year + int((month+9)/12)))/4) + int((275*month)/9) + day + 1721013.5\n",
    "    return J0 + UT/24\n",
    "\n",
    "# function to return the position vector from the data file\n",
    "def r(data):\n",
    "    return [data[2][0], data[2][1], data[2][2]]\n",
    "\n",
    "# function to return the velocity vector from the data file\n",
    "def rdot(data):\n",
    "    return [data[2][3], data[2][4], data[2][5]]\n",
    "\n",
    "# function to return the required right essential from the data file\n",
    "def alpha(data):\n",
    "    return data[1][0] + data[1][1]/60 + data[1][2]/3600\n",
    "\n",
    "# function to return the declination\n",
    "def delta(data):\n",
    "    if data[1][3] > 0 or data[1][3] == 0:\n",
    "        Dec = data[1][3] + data[1][4]/60 + data[1][5]/3600   \n",
    "    else:\n",
    "        Dec = data[1][3] - data[1][4]/60 - data[1][5]/3600\n",
    "    return Dec\n",
    "\n",
    "\n",
    "#Calculating the Lagrange Coefficients\n",
    "\n",
    "def f(r2,tau):\n",
    "    return 1-(mu/2)*(tau**2/r2**3)\n",
    "\n",
    "def g(r2,tau):\n",
    "    return tau - (mu/6)*(tau**3/r2**3)"
   ]
  },
  {
   "cell_type": "markdown",
   "id": "7bdb9072",
   "metadata": {},
   "source": [
    "## Orbiting body direction cosine vector:\n",
    "\n",
    "The orbiting body direction cosine vector can be determined from the right ascension and declination\n",
    "\n"
   ]
  },
  {
   "cell_type": "markdown",
   "id": "3935b094",
   "metadata": {},
   "source": [
    "<img src=\"visual%20for%20cosine%20vector.png\" alt=\"cosine vector\" style=\"width: 500px;\"/>"
   ]
  },
  {
   "cell_type": "code",
   "execution_count": 6,
   "id": "e2c0dbd0",
   "metadata": {},
   "outputs": [],
   "source": [
    "def rho_fun(alpha,delta):\n",
    "    return [cos(alpha)*cos(delta), sin(alpha)*cos(delta), sin(delta)]"
   ]
  },
  {
   "cell_type": "code",
   "execution_count": 7,
   "id": "f85ab642",
   "metadata": {},
   "outputs": [],
   "source": [
    "t1 = time(obs1)\n",
    "t2 = time(obs2)\n",
    "t3 = time(obs3)\n",
    "\n",
    "al = []\n",
    "al.append(alpha(obs1))\n",
    "al.append(alpha(obs2))\n",
    "al.append(alpha(obs3))\n",
    "\n",
    "de = []\n",
    "de.append(delta(obs1))\n",
    "de.append(delta(obs2))\n",
    "de.append(delta(obs3))\n",
    "\n",
    "R = []\n",
    "R.append(r(obs1))\n",
    "R.append(r(obs2))\n",
    "R.append(r(obs3))\n",
    "\n",
    "Rdot = []\n",
    "Rdot.append(rdot(obs1))\n",
    "Rdot.append(rdot(obs2))\n",
    "Rdot.append(rdot(obs3))"
   ]
  },
  {
   "cell_type": "code",
   "execution_count": 8,
   "id": "97fae0fe",
   "metadata": {},
   "outputs": [],
   "source": [
    "rho = []\n",
    "for i in range(3):\n",
    "    rho.append(rho_fun(al[i],de[i]))"
   ]
  },
  {
   "cell_type": "markdown",
   "id": "fd81f6dd",
   "metadata": {},
   "source": [
    "Calculate time intervals:"
   ]
  },
  {
   "cell_type": "code",
   "execution_count": 9,
   "id": "1a16b987",
   "metadata": {},
   "outputs": [],
   "source": [
    "# subtracting the time intervals between observations\n",
    "# here k is a constant called the Gaussian gravitational constant, expressed in radians per day\n",
    "tau1 = k*(t1 - t2)\n",
    "tau3 = k*(t3 - t2)\n",
    "tau = k*(t3 - t1)"
   ]
  },
  {
   "cell_type": "code",
   "execution_count": 10,
   "id": "51d359f4",
   "metadata": {},
   "outputs": [],
   "source": [
    "# some useful functions\n",
    "\n",
    "def cross(a,b):\n",
    "    return [a[1]*b[2] - a[2]*b[1], a[2]*b[0] - a[0]*b[2], a[0]*b[1] - a[1]*b[0]]\n",
    "\n",
    "def dot(a,b):\n",
    "    return a[0]*b[0]+a[1]*b[1]+a[2]*b[2]\n",
    "\n",
    "def mul(k,a):\n",
    "    return [k*a[0], k*a[1], k*a[2]]\n",
    "\n",
    "def add(a,b):\n",
    "    return [a[0]+b[0], a[1]+b[1], a[2]+b[2]]\n",
    "\n",
    "def subtract(a,b):\n",
    "    return [a[0]-b[0], a[1]-b[1], a[2]-b[2]]\n",
    "\n",
    "def mag(a):\n",
    "    return sqrt(a[0]**2 + a[1]**2 + a[2]**2)"
   ]
  },
  {
   "cell_type": "markdown",
   "id": "7fa81eb1",
   "metadata": {},
   "source": [
    "Calculating cross products of the observational unit direction:\n",
    "<img src=\"cross%20product.png\" alt=\"cross product\" style=\"width: 200px;\"/>"
   ]
  },
  {
   "cell_type": "code",
   "execution_count": 11,
   "id": "ef438e4a",
   "metadata": {},
   "outputs": [],
   "source": [
    "P = []\n",
    "P.append(cross(rho[1], rho[2]))\n",
    "P.append(cross(rho[0], rho[2]))\n",
    "P.append(cross(rho[0], rho[1]))"
   ]
  },
  {
   "cell_type": "markdown",
   "id": "0c41f5db",
   "metadata": {},
   "source": [
    "Calculating common scalar quantity (scalar triple product), by taking the dot product of the first observational unit vector with the cross product of the second and third observational unit vector:\n",
    "\n",
    "<img src=\"scalar%20pr.png\" alt=\"scalar product\" style=\"width: 250px;\"/>"
   ]
  },
  {
   "cell_type": "code",
   "execution_count": 12,
   "id": "d8918b4a",
   "metadata": {},
   "outputs": [],
   "source": [
    "# common scalar triple product\n",
    "D0 = dot(rho[0],P[0])\n",
    "\n",
    "# scalar quantities\n",
    "D = [[],[],[]]\n",
    "for i in range(3):\n",
    "    for j in range(3):\n",
    "        D[i].append(dot(R[i],P[j]))"
   ]
  },
  {
   "cell_type": "markdown",
   "id": "0f65802c",
   "metadata": {},
   "source": [
    "Calculate scalar position coefficients using the formullas:\n",
    "\n",
    "<img src=\"position%20coefficients%20formullas.png\" alt=\"scalar product\" style=\"width: 350px;\"/>\n"
   ]
  },
  {
   "cell_type": "code",
   "execution_count": 13,
   "id": "f5744ab3",
   "metadata": {},
   "outputs": [],
   "source": [
    "# scalar position coefficients\n",
    "\n",
    "A = (1/D0)*((-1)*D[0][1]*(tau3/tau) + D[1][1] + D[2][1]*(tau1/tau))\n",
    "B = (1/(6*D0))*(D[0][1]*(tau3**2 - tau**2)*(tau3/tau) + D[2][1]*(tau**2 - tau1**2)*(tau1/tau))\n",
    "E = dot(R[1], rho[1])"
   ]
  },
  {
   "cell_type": "markdown",
   "id": "1af473de",
   "metadata": {},
   "source": [
    "Calculate the coefficients of the scalar distance polynomial for the second observation of the orbiting body:\n",
    "<img src=\"scalar%20distance%20polynomial%20.png\" alt=\"scalar product\" style=\"width: 700px;\"/>\n"
   ]
  },
  {
   "cell_type": "code",
   "execution_count": 14,
   "id": "c4728fb9",
   "metadata": {},
   "outputs": [],
   "source": [
    "# scalar distance polynomial coefficients\n",
    "\n",
    "a = (-1)*(A**2 + A*E + dot(R[2],R[2]))\n",
    "b = (-2)*mu*B*(A+E)\n",
    "c = (-1)*(mu**2)*(B**2)\n",
    "\n",
    "# mu = gravitational parameter"
   ]
  },
  {
   "cell_type": "code",
   "execution_count": 15,
   "id": "d5d2feaf",
   "metadata": {},
   "outputs": [],
   "source": [
    "#Newton Raphson Method to determine r2\n",
    "#reducing error..\n",
    "\n",
    "def func(x):\n",
    "    return x**8 + a*(x**6) + b*(x**3) + c\n",
    "\n",
    "def derivfunc(x):\n",
    "    return 8*(x**7) + 6*a*(x**5) + 3*b*(x**2)\n",
    "\n",
    "def newton(x):\n",
    "    h = func(x)/derivfunc(x)\n",
    "    while abs(h) >= 0.0001:\n",
    "        h = func(x)/derivfunc(x)\n",
    "        x = x - h\n",
    "    return x\n",
    "\n",
    "r2 = newton(-10) # +10"
   ]
  },
  {
   "cell_type": "markdown",
   "id": "ae163710",
   "metadata": {},
   "source": [
    "Calculating the slant range, the distance from the observer point to the orbiting body at their respective time:\n",
    "\n",
    "<img src=\"slant%20range.png\" alt=\"scalar product\" style=\"width: 700px;\"/>\n"
   ]
  },
  {
   "cell_type": "code",
   "execution_count": 16,
   "id": "9014d669",
   "metadata": {},
   "outputs": [],
   "source": [
    "# slant range determination\n",
    "\n",
    "slant = []\n",
    "slant.append((1/D0) * ((6*(r2**3)*(D[2][0]*(tau1/tau3)+D[1][0]*(tau/tau3)) + mu*D[2][0]*(tau**2-tau1**2)*(tau1/tau3))/(6*(r2**3) + mu*(tau**2 - tau3**2)) - D[0][0]))\n",
    "slant.append(A + (mu*B)/(r2**3))\n",
    "slant.append((1/D0) * ((6*(r2**3)*(D[0][2]*(tau3/tau1)-D[1][2]*(tau/tau1)) + mu*D[0][2]*(tau**2-tau3**2)*(tau3/tau1))/(6*(r2**3) + mu*(tau**2 - tau1**2)) - D[2][2]))"
   ]
  },
  {
   "cell_type": "code",
   "execution_count": 17,
   "id": "072fdc61",
   "metadata": {},
   "outputs": [],
   "source": [
    "# orbiting body position vectors\n",
    "\n",
    "r = []\n",
    "for i in range(3):\n",
    "    r.append(add(R[i],mul(slant[i],rho[i])))"
   ]
  },
  {
   "cell_type": "code",
   "execution_count": 18,
   "id": "f5e86501",
   "metadata": {},
   "outputs": [],
   "source": [
    "# velocity vector\n",
    "\n",
    "k = f(r2,tau1)*g(r2,tau3) - f(r2,tau3)*g(r2,tau1)\n",
    "v2 = mul(1/k,subtract(mul(f(r2,tau1),r[2]),mul(f(r2,tau3),r[0])))"
   ]
  },
  {
   "cell_type": "code",
   "execution_count": 19,
   "id": "91d83bf0",
   "metadata": {},
   "outputs": [],
   "source": [
    "# function to intergrate all the above parameters and return the result\n",
    "\n",
    "def elements(r,v):\n",
    "    \n",
    "    # orbital angluar momentum\n",
    "    h = cross(r,v)\n",
    "          \n",
    "    # semi-major axis\n",
    "    a = 1/(2/mag(r) - (mag(v)**2)/mu)\n",
    "    print(\"The semi-major axis of the orbit : \", a)\n",
    "    \n",
    "    # eccentricity\n",
    "    e = subtract(mul(1/mu,cross(v,h)), mul(1/mag(r),r))\n",
    "    print(\"The eccentricity of the orbit : \", mag(e))\n",
    "          \n",
    "    # inclination\n",
    "    print(\"The inclination of the orbit : \", acos(h[2]/mag(h))*(180/pi))\n",
    "    \n",
    "    # longitude of ascending node\n",
    "    K = [0,0,1]\n",
    "    I = [1,0,0]\n",
    "    n = cross(K,h)\n",
    "    nx = dot(I,n)\n",
    "    if n[1] >= 0:\n",
    "          omega = acos(nx/mag(n))\n",
    "    else:\n",
    "          omega = 2*pi - acos(nx/mag(n))\n",
    "    print(\"The longitude of the ascending node : \", omega*(180/pi))\n",
    "    \n",
    "    # argument of perihilion\n",
    "    if e[2] >= 0:\n",
    "          arg = acos(dot(e,n)/(mag(n)*mag(e)))\n",
    "    else:\n",
    "          arg = 2*pi - acos(dot(e,n)/(mag(n)*mag(e)))\n",
    "    print(\"The argument of perihelion : \", arg*(180/pi))\n",
    "    \n",
    "    # true anomaly\n",
    "    tv = acos(dot(e,r)/(mag(e)*mag(r)))\n",
    "    if dot(r,v) >= 0:\n",
    "        tv = tv\n",
    "    elif dot(r,v) < 0:\n",
    "        tv = 2*pi - tv\n",
    "    print(\"The true anomaly : \", tv*(180/pi))\n",
    "    \n",
    "    # type of the orbit:\n",
    "    if mag(e)==0:\n",
    "        print(\"Type of the orbit: Circle\")\n",
    "    elif mag(e)<1:\n",
    "        print(\"Type of the orbit: Ellipse\")\n",
    "    elif mag(e)==1:\n",
    "        print(\"Type of the orbit: Parabola\")\n",
    "    elif mag(e)>1:\n",
    "        print(\"Type of the orbit: Hyperbola\")\n",
    "        \n",
    "    "
   ]
  },
  {
   "cell_type": "code",
   "execution_count": 20,
   "id": "0736ca6c",
   "metadata": {},
   "outputs": [
    {
     "name": "stdout",
     "output_type": "stream",
     "text": [
      "The semi-major axis of the orbit :  23.401379461985705\n",
      "The eccentricity of the orbit :  0.9998857727328198\n",
      "The inclination of the orbit :  94.36618550117838\n",
      "The longitude of the ascending node :  187.39149469182553\n",
      "The argument of perihelion :  344.23056324421765\n",
      "The true anomaly :  179.3468760578816\n",
      "Type of the orbit: Ellipse\n"
     ]
    }
   ],
   "source": [
    "# when r2 = 14.388\n",
    "elements(r[2],v2)"
   ]
  },
  {
   "cell_type": "code",
   "execution_count": 21,
   "id": "0ed75aa1",
   "metadata": {},
   "outputs": [
    {
     "name": "stdout",
     "output_type": "stream",
     "text": [
      "The semi-major axis of the orbit :  23.401379461985705\n",
      "The eccentricity of the orbit :  0.9998857727328198\n",
      "The inclination of the orbit :  94.36618550117838\n",
      "The longitude of the ascending node :  187.39149469182553\n",
      "The argument of perihelion :  344.23056324421765\n",
      "The true anomaly :  179.3468760578816\n",
      "Type of the orbit: Ellipse\n"
     ]
    }
   ],
   "source": [
    "# when r2 = -14.388\n",
    "elements(r[2],v2)"
   ]
  }
 ],
 "metadata": {
  "kernelspec": {
   "display_name": "Python 3 (ipykernel)",
   "language": "python",
   "name": "python3"
  },
  "language_info": {
   "codemirror_mode": {
    "name": "ipython",
    "version": 3
   },
   "file_extension": ".py",
   "mimetype": "text/x-python",
   "name": "python",
   "nbconvert_exporter": "python",
   "pygments_lexer": "ipython3",
   "version": "3.10.8"
  }
 },
 "nbformat": 4,
 "nbformat_minor": 5
}
